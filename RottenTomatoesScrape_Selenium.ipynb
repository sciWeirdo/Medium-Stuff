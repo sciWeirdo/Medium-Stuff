{
 "cells": [
  {
   "cell_type": "code",
   "execution_count": 6,
   "id": "faf442d5",
   "metadata": {},
   "outputs": [],
   "source": [
    "from selenium import webdriver\n",
    "from selenium.webdriver.common.keys import Keys\n",
    "from selenium.webdriver.common.by import By\n",
    "from selenium.webdriver.chrome.options import Options\n",
    "from selenium.webdriver.common.action_chains import ActionChains\n",
    "\n",
    "# connect to google.com\n",
    "driver = webdriver.Chrome(options=Options())\n",
    "\n",
    "actions = ActionChains(driver)\n",
    "\n",
    "driver.implicitly_wait(0.5)\n",
    "#launch URL\n",
    "driver.get(\"https://www.google.com/\")\n",
    "#identify search box\n",
    "m = driver.find_element(By.CLASS_NAME,\"RNNXgb\")\n",
    "\n",
    "\n",
    "actions.send_keys(\"Tutorialspoint\")\n",
    "\n",
    "actions.send_keys(Keys.ENTER)\n",
    "\n",
    "actions.perform()\n",
    "\n",
    "driver.quit()"
   ]
  },
  {
   "cell_type": "code",
   "execution_count": null,
   "id": "8fb44c7d",
   "metadata": {},
   "outputs": [],
   "source": []
  },
  {
   "cell_type": "code",
   "execution_count": null,
   "id": "d440b03f",
   "metadata": {},
   "outputs": [],
   "source": []
  }
 ],
 "metadata": {
  "kernelspec": {
   "display_name": "Python 3 (ipykernel)",
   "language": "python",
   "name": "python3"
  },
  "language_info": {
   "codemirror_mode": {
    "name": "ipython",
    "version": 3
   },
   "file_extension": ".py",
   "mimetype": "text/x-python",
   "name": "python",
   "nbconvert_exporter": "python",
   "pygments_lexer": "ipython3",
   "version": "3.8.8"
  }
 },
 "nbformat": 4,
 "nbformat_minor": 5
}
