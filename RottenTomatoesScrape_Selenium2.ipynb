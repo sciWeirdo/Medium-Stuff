{
 "cells": [
  {
   "cell_type": "code",
   "execution_count": null,
   "id": "79afd02d",
   "metadata": {
    "scrolled": true
   },
   "outputs": [],
   "source": [
    "from selenium import webdriver\n",
    "from selenium.webdriver.common.keys import Keys\n",
    "from selenium.webdriver.common.by import By\n",
    "from selenium.webdriver.chrome.options import Options\n",
    "from selenium.webdriver.common.action_chains import ActionChains\n",
    "\n",
    "# connect to google.com\n",
    "driver = webdriver.Chrome(options=Options())\n",
    "\n",
    "actions = ActionChains(driver)\n",
    "\n",
    "driver.implicitly_wait(0.5)\n",
    "#launch URL\n",
    "driver.get(\"https://www.rottentomatoes.com/m/wonder_woman_1984/reviews\")\n",
    "\n",
    "\n",
    "print(bool(driver.find_elements(By.CLASS_NAME,\"prev hide\")))\n",
    "print(driver.find_elements(By.CLASS_NAME,\"prev hide\"))\n",
    "print(driver.find_elements(By.CLASS_NAME,\"prev\"))\n",
    "#print(bool(driver.find_elements(By.CLASS_NAME,\"prev\")))\n",
    "\n",
    "\n",
    "reviews = driver.find_elements(By.CLASS_NAME,\"review-text\");\n",
    "print(reviews[10].text)\n",
    "#reviews is returned as a vector, so you can only take text from each one.\n",
    "\n",
    "l = driver.find_elements(By.CLASS_NAME,\"next\")[0].click()\n",
    "#there's two next buttons, so it gives a list. Just pick one.\n",
    "\n",
    "reviews2 = driver.find_elements(By.CLASS_NAME,\"review-text\");\n",
    "print(reviews2[10].text)\n",
    "\n",
    "print(bool(driver.find_elements(By.CLASS_NAME,\"next\")))\n",
    "print(bool(driver.find_elements(By.CLASS_NAME,\"prev hide\")))\n",
    "print(type(driver.find_elements(By.CLASS_NAME,\"prev\")[0]))\n",
    "#print(bool(driver.find_elements(By.CLASS_NAME,\"prev\")))\n",
    "#we're gonna have a do-while loop that checks to see if the button disappeared\n",
    "\n",
    "#for i in range(23):\n",
    "#    l=driver.find_elements(By.CLASS_NAME,\"next\")[0].click()\n",
    "\n",
    "\n",
    "driver.quit()"
   ]
  },
  {
   "cell_type": "code",
   "execution_count": null,
   "id": "4b59f524",
   "metadata": {},
   "outputs": [],
   "source": []
  }
 ],
 "metadata": {
  "kernelspec": {
   "display_name": "Python 3 (ipykernel)",
   "language": "python",
   "name": "python3"
  },
  "language_info": {
   "codemirror_mode": {
    "name": "ipython",
    "version": 3
   },
   "file_extension": ".py",
   "mimetype": "text/x-python",
   "name": "python",
   "nbconvert_exporter": "python",
   "pygments_lexer": "ipython3",
   "version": "3.8.8"
  }
 },
 "nbformat": 4,
 "nbformat_minor": 5
}
